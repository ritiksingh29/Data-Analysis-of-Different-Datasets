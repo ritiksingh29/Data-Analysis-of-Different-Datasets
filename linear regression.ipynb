{
 "cells": [
  {
   "cell_type": "code",
   "execution_count": 1,
   "id": "97f364a2",
   "metadata": {},
   "outputs": [],
   "source": [
    "import pandas as pd\n",
    "import numpy as np\n",
    "import matplotlib.pyplot as plt"
   ]
  },
  {
   "cell_type": "code",
   "execution_count": 2,
   "id": "8ceea5b5",
   "metadata": {},
   "outputs": [],
   "source": [
    "# "
   ]
  },
  {
   "cell_type": "code",
   "execution_count": 3,
   "id": "fe761073",
   "metadata": {},
   "outputs": [],
   "source": [
    "data = pd.read_csv(\"quikr_car - quikr_car.csv\")"
   ]
  },
  {
   "cell_type": "code",
   "execution_count": 4,
   "id": "d1ca024f",
   "metadata": {},
   "outputs": [
    {
     "data": {
      "text/html": [
       "<div>\n",
       "<style scoped>\n",
       "    .dataframe tbody tr th:only-of-type {\n",
       "        vertical-align: middle;\n",
       "    }\n",
       "\n",
       "    .dataframe tbody tr th {\n",
       "        vertical-align: top;\n",
       "    }\n",
       "\n",
       "    .dataframe thead th {\n",
       "        text-align: right;\n",
       "    }\n",
       "</style>\n",
       "<table border=\"1\" class=\"dataframe\">\n",
       "  <thead>\n",
       "    <tr style=\"text-align: right;\">\n",
       "      <th></th>\n",
       "      <th>name</th>\n",
       "      <th>company</th>\n",
       "      <th>year</th>\n",
       "      <th>Price</th>\n",
       "      <th>kms_driven</th>\n",
       "      <th>fuel_type</th>\n",
       "    </tr>\n",
       "  </thead>\n",
       "  <tbody>\n",
       "    <tr>\n",
       "      <th>0</th>\n",
       "      <td>Hyundai Santro Xing XO eRLX Euro III</td>\n",
       "      <td>Hyundai</td>\n",
       "      <td>2007</td>\n",
       "      <td>80,000</td>\n",
       "      <td>45,000 kms</td>\n",
       "      <td>Petrol</td>\n",
       "    </tr>\n",
       "    <tr>\n",
       "      <th>1</th>\n",
       "      <td>Mahindra Jeep CL550 MDI</td>\n",
       "      <td>Mahindra</td>\n",
       "      <td>2006</td>\n",
       "      <td>4,25,000</td>\n",
       "      <td>40 kms</td>\n",
       "      <td>Diesel</td>\n",
       "    </tr>\n",
       "    <tr>\n",
       "      <th>2</th>\n",
       "      <td>Maruti Suzuki Alto 800 Vxi</td>\n",
       "      <td>Maruti</td>\n",
       "      <td>2018</td>\n",
       "      <td>Ask For Price</td>\n",
       "      <td>22,000 kms</td>\n",
       "      <td>Petrol</td>\n",
       "    </tr>\n",
       "    <tr>\n",
       "      <th>3</th>\n",
       "      <td>Hyundai Grand i10 Magna 1.2 Kappa VTVT</td>\n",
       "      <td>Hyundai</td>\n",
       "      <td>2014</td>\n",
       "      <td>3,25,000</td>\n",
       "      <td>28,000 kms</td>\n",
       "      <td>Petrol</td>\n",
       "    </tr>\n",
       "    <tr>\n",
       "      <th>4</th>\n",
       "      <td>Ford EcoSport Titanium 1.5L TDCi</td>\n",
       "      <td>Ford</td>\n",
       "      <td>2014</td>\n",
       "      <td>5,75,000</td>\n",
       "      <td>36,000 kms</td>\n",
       "      <td>Diesel</td>\n",
       "    </tr>\n",
       "  </tbody>\n",
       "</table>\n",
       "</div>"
      ],
      "text/plain": [
       "                                     name   company  year          Price  \\\n",
       "0    Hyundai Santro Xing XO eRLX Euro III   Hyundai  2007         80,000   \n",
       "1                 Mahindra Jeep CL550 MDI  Mahindra  2006       4,25,000   \n",
       "2              Maruti Suzuki Alto 800 Vxi    Maruti  2018  Ask For Price   \n",
       "3  Hyundai Grand i10 Magna 1.2 Kappa VTVT   Hyundai  2014       3,25,000   \n",
       "4        Ford EcoSport Titanium 1.5L TDCi      Ford  2014       5,75,000   \n",
       "\n",
       "   kms_driven fuel_type  \n",
       "0  45,000 kms    Petrol  \n",
       "1      40 kms    Diesel  \n",
       "2  22,000 kms    Petrol  \n",
       "3  28,000 kms    Petrol  \n",
       "4  36,000 kms    Diesel  "
      ]
     },
     "execution_count": 4,
     "metadata": {},
     "output_type": "execute_result"
    }
   ],
   "source": [
    "data.head()"
   ]
  },
  {
   "cell_type": "code",
   "execution_count": 5,
   "id": "6175c891",
   "metadata": {},
   "outputs": [
    {
     "data": {
      "text/plain": [
       "name          object\n",
       "company       object\n",
       "year          object\n",
       "Price         object\n",
       "kms_driven    object\n",
       "fuel_type     object\n",
       "dtype: object"
      ]
     },
     "execution_count": 5,
     "metadata": {},
     "output_type": "execute_result"
    }
   ],
   "source": [
    "data.dtypes"
   ]
  },
  {
   "cell_type": "code",
   "execution_count": 6,
   "id": "9a9949d9",
   "metadata": {},
   "outputs": [],
   "source": [
    "data= data[data[\"year\"].str.isnumeric()]"
   ]
  },
  {
   "cell_type": "code",
   "execution_count": 7,
   "id": "f2bf90f3",
   "metadata": {},
   "outputs": [],
   "source": [
    "data['year']=data['year'].astype(int)"
   ]
  },
  {
   "cell_type": "code",
   "execution_count": 8,
   "id": "e25bfbbe",
   "metadata": {},
   "outputs": [
    {
     "data": {
      "text/plain": [
       "0      2007\n",
       "1      2006\n",
       "2      2018\n",
       "3      2014\n",
       "4      2014\n",
       "       ... \n",
       "886    2009\n",
       "888    2018\n",
       "889    2013\n",
       "890    2014\n",
       "891    2014\n",
       "Name: year, Length: 842, dtype: int32"
      ]
     },
     "execution_count": 8,
     "metadata": {},
     "output_type": "execute_result"
    }
   ],
   "source": [
    "data['year']"
   ]
  },
  {
   "cell_type": "code",
   "execution_count": 9,
   "id": "47390ec7",
   "metadata": {},
   "outputs": [
    {
     "data": {
      "text/html": [
       "<div>\n",
       "<style scoped>\n",
       "    .dataframe tbody tr th:only-of-type {\n",
       "        vertical-align: middle;\n",
       "    }\n",
       "\n",
       "    .dataframe tbody tr th {\n",
       "        vertical-align: top;\n",
       "    }\n",
       "\n",
       "    .dataframe thead th {\n",
       "        text-align: right;\n",
       "    }\n",
       "</style>\n",
       "<table border=\"1\" class=\"dataframe\">\n",
       "  <thead>\n",
       "    <tr style=\"text-align: right;\">\n",
       "      <th></th>\n",
       "      <th>name</th>\n",
       "      <th>company</th>\n",
       "      <th>year</th>\n",
       "      <th>Price</th>\n",
       "      <th>kms_driven</th>\n",
       "      <th>fuel_type</th>\n",
       "    </tr>\n",
       "  </thead>\n",
       "  <tbody>\n",
       "    <tr>\n",
       "      <th>0</th>\n",
       "      <td>Hyundai Santro Xing XO eRLX Euro III</td>\n",
       "      <td>Hyundai</td>\n",
       "      <td>2007</td>\n",
       "      <td>80,000</td>\n",
       "      <td>45,000 kms</td>\n",
       "      <td>Petrol</td>\n",
       "    </tr>\n",
       "    <tr>\n",
       "      <th>1</th>\n",
       "      <td>Mahindra Jeep CL550 MDI</td>\n",
       "      <td>Mahindra</td>\n",
       "      <td>2006</td>\n",
       "      <td>4,25,000</td>\n",
       "      <td>40 kms</td>\n",
       "      <td>Diesel</td>\n",
       "    </tr>\n",
       "    <tr>\n",
       "      <th>2</th>\n",
       "      <td>Maruti Suzuki Alto 800 Vxi</td>\n",
       "      <td>Maruti</td>\n",
       "      <td>2018</td>\n",
       "      <td>Ask For Price</td>\n",
       "      <td>22,000 kms</td>\n",
       "      <td>Petrol</td>\n",
       "    </tr>\n",
       "    <tr>\n",
       "      <th>3</th>\n",
       "      <td>Hyundai Grand i10 Magna 1.2 Kappa VTVT</td>\n",
       "      <td>Hyundai</td>\n",
       "      <td>2014</td>\n",
       "      <td>3,25,000</td>\n",
       "      <td>28,000 kms</td>\n",
       "      <td>Petrol</td>\n",
       "    </tr>\n",
       "    <tr>\n",
       "      <th>4</th>\n",
       "      <td>Ford EcoSport Titanium 1.5L TDCi</td>\n",
       "      <td>Ford</td>\n",
       "      <td>2014</td>\n",
       "      <td>5,75,000</td>\n",
       "      <td>36,000 kms</td>\n",
       "      <td>Diesel</td>\n",
       "    </tr>\n",
       "    <tr>\n",
       "      <th>...</th>\n",
       "      <td>...</td>\n",
       "      <td>...</td>\n",
       "      <td>...</td>\n",
       "      <td>...</td>\n",
       "      <td>...</td>\n",
       "      <td>...</td>\n",
       "    </tr>\n",
       "    <tr>\n",
       "      <th>886</th>\n",
       "      <td>Toyota Corolla Altis</td>\n",
       "      <td>Toyota</td>\n",
       "      <td>2009</td>\n",
       "      <td>3,00,000</td>\n",
       "      <td>1,32,000 kms</td>\n",
       "      <td>Petrol</td>\n",
       "    </tr>\n",
       "    <tr>\n",
       "      <th>888</th>\n",
       "      <td>Tata Zest XM Diesel</td>\n",
       "      <td>Tata</td>\n",
       "      <td>2018</td>\n",
       "      <td>2,60,000</td>\n",
       "      <td>27,000 kms</td>\n",
       "      <td>Diesel</td>\n",
       "    </tr>\n",
       "    <tr>\n",
       "      <th>889</th>\n",
       "      <td>Mahindra Quanto C8</td>\n",
       "      <td>Mahindra</td>\n",
       "      <td>2013</td>\n",
       "      <td>3,90,000</td>\n",
       "      <td>40,000 kms</td>\n",
       "      <td>Diesel</td>\n",
       "    </tr>\n",
       "    <tr>\n",
       "      <th>890</th>\n",
       "      <td>Honda Amaze 1.2 E i VTEC</td>\n",
       "      <td>Honda</td>\n",
       "      <td>2014</td>\n",
       "      <td>1,80,000</td>\n",
       "      <td>Petrol</td>\n",
       "      <td>NaN</td>\n",
       "    </tr>\n",
       "    <tr>\n",
       "      <th>891</th>\n",
       "      <td>Chevrolet Sail 1.2 LT ABS</td>\n",
       "      <td>Chevrolet</td>\n",
       "      <td>2014</td>\n",
       "      <td>1,60,000</td>\n",
       "      <td>Petrol</td>\n",
       "      <td>NaN</td>\n",
       "    </tr>\n",
       "  </tbody>\n",
       "</table>\n",
       "<p>842 rows × 6 columns</p>\n",
       "</div>"
      ],
      "text/plain": [
       "                                       name    company  year          Price  \\\n",
       "0      Hyundai Santro Xing XO eRLX Euro III    Hyundai  2007         80,000   \n",
       "1                   Mahindra Jeep CL550 MDI   Mahindra  2006       4,25,000   \n",
       "2                Maruti Suzuki Alto 800 Vxi     Maruti  2018  Ask For Price   \n",
       "3    Hyundai Grand i10 Magna 1.2 Kappa VTVT    Hyundai  2014       3,25,000   \n",
       "4          Ford EcoSport Titanium 1.5L TDCi       Ford  2014       5,75,000   \n",
       "..                                      ...        ...   ...            ...   \n",
       "886                    Toyota Corolla Altis     Toyota  2009       3,00,000   \n",
       "888                     Tata Zest XM Diesel       Tata  2018       2,60,000   \n",
       "889                      Mahindra Quanto C8   Mahindra  2013       3,90,000   \n",
       "890                Honda Amaze 1.2 E i VTEC      Honda  2014       1,80,000   \n",
       "891               Chevrolet Sail 1.2 LT ABS  Chevrolet  2014       1,60,000   \n",
       "\n",
       "       kms_driven fuel_type  \n",
       "0      45,000 kms    Petrol  \n",
       "1          40 kms    Diesel  \n",
       "2      22,000 kms    Petrol  \n",
       "3      28,000 kms    Petrol  \n",
       "4      36,000 kms    Diesel  \n",
       "..            ...       ...  \n",
       "886  1,32,000 kms    Petrol  \n",
       "888    27,000 kms    Diesel  \n",
       "889    40,000 kms    Diesel  \n",
       "890        Petrol       NaN  \n",
       "891        Petrol       NaN  \n",
       "\n",
       "[842 rows x 6 columns]"
      ]
     },
     "execution_count": 9,
     "metadata": {},
     "output_type": "execute_result"
    }
   ],
   "source": [
    "data"
   ]
  },
  {
   "cell_type": "code",
   "execution_count": 10,
   "id": "1c4124fd",
   "metadata": {},
   "outputs": [],
   "source": [
    "data = data[data['Price']!= 'Ask For Price']"
   ]
  },
  {
   "cell_type": "code",
   "execution_count": 11,
   "id": "6f80014b",
   "metadata": {},
   "outputs": [
    {
     "name": "stderr",
     "output_type": "stream",
     "text": [
      "C:\\Users\\asus\\AppData\\Local\\Temp\\ipykernel_16624\\243074014.py:1: SettingWithCopyWarning: \n",
      "A value is trying to be set on a copy of a slice from a DataFrame.\n",
      "Try using .loc[row_indexer,col_indexer] = value instead\n",
      "\n",
      "See the caveats in the documentation: https://pandas.pydata.org/pandas-docs/stable/user_guide/indexing.html#returning-a-view-versus-a-copy\n",
      "  data['Price'] = data['Price'].str.replace(',','').astype(int)\n"
     ]
    }
   ],
   "source": [
    "data['Price'] = data['Price'].str.replace(',','').astype(int)"
   ]
  },
  {
   "cell_type": "code",
   "execution_count": 12,
   "id": "081fdee6",
   "metadata": {},
   "outputs": [
    {
     "data": {
      "text/plain": [
       "0       80000\n",
       "1      425000\n",
       "3      325000\n",
       "4      575000\n",
       "6      175000\n",
       "        ...  \n",
       "886    300000\n",
       "888    260000\n",
       "889    390000\n",
       "890    180000\n",
       "891    160000\n",
       "Name: Price, Length: 819, dtype: int32"
      ]
     },
     "execution_count": 12,
     "metadata": {},
     "output_type": "execute_result"
    }
   ],
   "source": [
    "data['Price']"
   ]
  },
  {
   "cell_type": "code",
   "execution_count": 13,
   "id": "46190817",
   "metadata": {},
   "outputs": [
    {
     "data": {
      "text/plain": [
       "<matplotlib.collections.PathCollection at 0x29631229b50>"
      ]
     },
     "execution_count": 13,
     "metadata": {},
     "output_type": "execute_result"
    },
    {
     "data": {
      "image/png": "[encoded data removed]",
      "text/plain": [
       "<Figure size 432x288 with 1 Axes>"
      ]
     },
     "metadata": {
      "needs_background": "light"
     },
     "output_type": "display_data"
    }
   ],
   "source": [
    "import matplotlib.pyplot as plt\n",
    "x= data['year']\n",
    "y= data['Price']\n",
    "plt.scatter(x,y)"
   ]
  },
  {
   "cell_type": "code",
   "execution_count": 14,
   "id": "725973d2",
   "metadata": {},
   "outputs": [
    {
     "data": {
      "text/html": [
       "<div>\n",
       "<style scoped>\n",
       "    .dataframe tbody tr th:only-of-type {\n",
       "        vertical-align: middle;\n",
       "    }\n",
       "\n",
       "    .dataframe tbody tr th {\n",
       "        vertical-align: top;\n",
       "    }\n",
       "\n",
       "    .dataframe thead th {\n",
       "        text-align: right;\n",
       "    }\n",
       "</style>\n",
       "<table border=\"1\" class=\"dataframe\">\n",
       "  <thead>\n",
       "    <tr style=\"text-align: right;\">\n",
       "      <th></th>\n",
       "      <th>name</th>\n",
       "      <th>company</th>\n",
       "      <th>year</th>\n",
       "      <th>Price</th>\n",
       "      <th>kms_driven</th>\n",
       "      <th>fuel_type</th>\n",
       "    </tr>\n",
       "  </thead>\n",
       "  <tbody>\n",
       "    <tr>\n",
       "      <th>562</th>\n",
       "      <td>Mahindra XUV500 W6</td>\n",
       "      <td>Mahindra</td>\n",
       "      <td>2014</td>\n",
       "      <td>8500003</td>\n",
       "      <td>45,000 kms</td>\n",
       "      <td>Diesel</td>\n",
       "    </tr>\n",
       "  </tbody>\n",
       "</table>\n",
       "</div>"
      ],
      "text/plain": [
       "                   name   company  year    Price  kms_driven fuel_type\n",
       "562  Mahindra XUV500 W6  Mahindra  2014  8500003  45,000 kms    Diesel"
      ]
     },
     "execution_count": 14,
     "metadata": {},
     "output_type": "execute_result"
    }
   ],
   "source": [
    "data.loc[data['Price']> 3500000]"
   ]
  },
  {
   "cell_type": "code",
   "execution_count": 15,
   "id": "9c5de0b7",
   "metadata": {},
   "outputs": [],
   "source": [
    "data = data.drop(562,axis=0)"
   ]
  },
  {
   "cell_type": "code",
   "execution_count": 16,
   "id": "ccf70629",
   "metadata": {},
   "outputs": [
    {
     "data": {
      "text/plain": [
       "0        45,000 kms\n",
       "1            40 kms\n",
       "3        28,000 kms\n",
       "4        36,000 kms\n",
       "6        41,000 kms\n",
       "           ...     \n",
       "886    1,32,000 kms\n",
       "888      27,000 kms\n",
       "889      40,000 kms\n",
       "890          Petrol\n",
       "891          Petrol\n",
       "Name: kms_driven, Length: 818, dtype: object"
      ]
     },
     "execution_count": 16,
     "metadata": {},
     "output_type": "execute_result"
    }
   ],
   "source": [
    "data['kms_driven']"
   ]
  },
  {
   "cell_type": "code",
   "execution_count": 17,
   "id": "f867f16f",
   "metadata": {},
   "outputs": [],
   "source": [
    "# data = data['kms_driven'].str.isnumeric()"
   ]
  },
  {
   "cell_type": "code",
   "execution_count": 18,
   "id": "621b807b",
   "metadata": {},
   "outputs": [],
   "source": [
    "data['kms_driven']= data['kms_driven'].str.split(' ').str.get(0).str.replace(',','')"
   ]
  },
  {
   "cell_type": "code",
   "execution_count": 19,
   "id": "9e45ba2b",
   "metadata": {},
   "outputs": [
    {
     "data": {
      "text/plain": [
       "<bound method Series.info of 0       45000\n",
       "1          40\n",
       "3       28000\n",
       "4       36000\n",
       "6       41000\n",
       "        ...  \n",
       "886    132000\n",
       "888     27000\n",
       "889     40000\n",
       "890    Petrol\n",
       "891    Petrol\n",
       "Name: kms_driven, Length: 818, dtype: object>"
      ]
     },
     "execution_count": 19,
     "metadata": {},
     "output_type": "execute_result"
    }
   ],
   "source": [
    "data['kms_driven'].info"
   ]
  },
  {
   "cell_type": "code",
   "execution_count": 20,
   "id": "e00c8a69",
   "metadata": {},
   "outputs": [],
   "source": [
    "data = data[data['kms_driven'].str.isnumeric()]"
   ]
  },
  {
   "cell_type": "code",
   "execution_count": 21,
   "id": "cb7208de",
   "metadata": {},
   "outputs": [],
   "source": [
    "data['kms_driven']=data['kms_driven'].astype(int)"
   ]
  },
  {
   "cell_type": "code",
   "execution_count": 22,
   "id": "dd57dc66",
   "metadata": {},
   "outputs": [
    {
     "data": {
      "text/plain": [
       "0       45000\n",
       "1          40\n",
       "3       28000\n",
       "4       36000\n",
       "6       41000\n",
       "        ...  \n",
       "883     50000\n",
       "885     30000\n",
       "886    132000\n",
       "888     27000\n",
       "889     40000\n",
       "Name: kms_driven, Length: 816, dtype: int32"
      ]
     },
     "execution_count": 22,
     "metadata": {},
     "output_type": "execute_result"
    }
   ],
   "source": [
    "data['kms_driven']"
   ]
  },
  {
   "cell_type": "code",
   "execution_count": 23,
   "id": "c2859ffa",
   "metadata": {},
   "outputs": [
    {
     "data": {
      "text/html": [
       "<div>\n",
       "<style scoped>\n",
       "    .dataframe tbody tr th:only-of-type {\n",
       "        vertical-align: middle;\n",
       "    }\n",
       "\n",
       "    .dataframe tbody tr th {\n",
       "        vertical-align: top;\n",
       "    }\n",
       "\n",
       "    .dataframe thead th {\n",
       "        text-align: right;\n",
       "    }\n",
       "</style>\n",
       "<table border=\"1\" class=\"dataframe\">\n",
       "  <thead>\n",
       "    <tr style=\"text-align: right;\">\n",
       "      <th></th>\n",
       "      <th>name</th>\n",
       "      <th>company</th>\n",
       "      <th>year</th>\n",
       "      <th>Price</th>\n",
       "      <th>kms_driven</th>\n",
       "      <th>fuel_type</th>\n",
       "    </tr>\n",
       "  </thead>\n",
       "  <tbody>\n",
       "    <tr>\n",
       "      <th>132</th>\n",
       "      <td>Toyota Corolla</td>\n",
       "      <td>Toyota</td>\n",
       "      <td>2009</td>\n",
       "      <td>275000</td>\n",
       "      <td>26000</td>\n",
       "      <td>NaN</td>\n",
       "    </tr>\n",
       "  </tbody>\n",
       "</table>\n",
       "</div>"
      ],
      "text/plain": [
       "               name company  year   Price  kms_driven fuel_type\n",
       "132  Toyota Corolla  Toyota  2009  275000       26000       NaN"
      ]
     },
     "execution_count": 23,
     "metadata": {},
     "output_type": "execute_result"
    }
   ],
   "source": [
    "data[data['fuel_type'].isna()]"
   ]
  },
  {
   "cell_type": "code",
   "execution_count": 24,
   "id": "4d0260b3",
   "metadata": {},
   "outputs": [],
   "source": [
    "data = data[~data['fuel_type'].isna()]"
   ]
  },
  {
   "cell_type": "code",
   "execution_count": 25,
   "id": "e4913682",
   "metadata": {},
   "outputs": [
    {
     "data": {
      "text/plain": [
       "0      Petrol\n",
       "1      Diesel\n",
       "3      Petrol\n",
       "4      Diesel\n",
       "6      Diesel\n",
       "        ...  \n",
       "883    Petrol\n",
       "885    Diesel\n",
       "886    Petrol\n",
       "888    Diesel\n",
       "889    Diesel\n",
       "Name: fuel_type, Length: 815, dtype: object"
      ]
     },
     "execution_count": 25,
     "metadata": {},
     "output_type": "execute_result"
    }
   ],
   "source": [
    "data['fuel_type']"
   ]
  },
  {
   "cell_type": "code",
   "execution_count": 26,
   "id": "07262ed9",
   "metadata": {},
   "outputs": [
    {
     "name": "stdout",
     "output_type": "stream",
     "text": [
      "<class 'pandas.core.frame.DataFrame'>\n",
      "Int64Index: 815 entries, 0 to 889\n",
      "Data columns (total 6 columns):\n",
      " #   Column      Non-Null Count  Dtype \n",
      "---  ------      --------------  ----- \n",
      " 0   name        815 non-null    object\n",
      " 1   company     815 non-null    object\n",
      " 2   year        815 non-null    int32 \n",
      " 3   Price       815 non-null    int32 \n",
      " 4   kms_driven  815 non-null    int32 \n",
      " 5   fuel_type   815 non-null    object\n",
      "dtypes: int32(3), object(3)\n",
      "memory usage: 35.0+ KB\n"
     ]
    }
   ],
   "source": [
    "data.info()\n",
    "# data is cleaned\n"
   ]
  },
  {
   "cell_type": "code",
   "execution_count": 27,
   "id": "fa1fc30c",
   "metadata": {},
   "outputs": [],
   "source": [
    "data1 = data.to_csv('duplicate_car.csv')"
   ]
  },
  {
   "cell_type": "code",
   "execution_count": 28,
   "id": "ad4d8d70",
   "metadata": {},
   "outputs": [
    {
     "data": {
      "text/html": [
       "<div>\n",
       "<style scoped>\n",
       "    .dataframe tbody tr th:only-of-type {\n",
       "        vertical-align: middle;\n",
       "    }\n",
       "\n",
       "    .dataframe tbody tr th {\n",
       "        vertical-align: top;\n",
       "    }\n",
       "\n",
       "    .dataframe thead th {\n",
       "        text-align: right;\n",
       "    }\n",
       "</style>\n",
       "<table border=\"1\" class=\"dataframe\">\n",
       "  <thead>\n",
       "    <tr style=\"text-align: right;\">\n",
       "      <th></th>\n",
       "      <th>Unnamed: 0</th>\n",
       "      <th>name</th>\n",
       "      <th>company</th>\n",
       "      <th>year</th>\n",
       "      <th>Price</th>\n",
       "      <th>kms_driven</th>\n",
       "      <th>fuel_type</th>\n",
       "    </tr>\n",
       "  </thead>\n",
       "  <tbody>\n",
       "    <tr>\n",
       "      <th>0</th>\n",
       "      <td>0</td>\n",
       "      <td>Hyundai Santro Xing XO eRLX Euro III</td>\n",
       "      <td>Hyundai</td>\n",
       "      <td>2007</td>\n",
       "      <td>80000</td>\n",
       "      <td>45000</td>\n",
       "      <td>Petrol</td>\n",
       "    </tr>\n",
       "    <tr>\n",
       "      <th>1</th>\n",
       "      <td>1</td>\n",
       "      <td>Mahindra Jeep CL550 MDI</td>\n",
       "      <td>Mahindra</td>\n",
       "      <td>2006</td>\n",
       "      <td>425000</td>\n",
       "      <td>40</td>\n",
       "      <td>Diesel</td>\n",
       "    </tr>\n",
       "    <tr>\n",
       "      <th>2</th>\n",
       "      <td>3</td>\n",
       "      <td>Hyundai Grand i10 Magna 1.2 Kappa VTVT</td>\n",
       "      <td>Hyundai</td>\n",
       "      <td>2014</td>\n",
       "      <td>325000</td>\n",
       "      <td>28000</td>\n",
       "      <td>Petrol</td>\n",
       "    </tr>\n",
       "    <tr>\n",
       "      <th>3</th>\n",
       "      <td>4</td>\n",
       "      <td>Ford EcoSport Titanium 1.5L TDCi</td>\n",
       "      <td>Ford</td>\n",
       "      <td>2014</td>\n",
       "      <td>575000</td>\n",
       "      <td>36000</td>\n",
       "      <td>Diesel</td>\n",
       "    </tr>\n",
       "    <tr>\n",
       "      <th>4</th>\n",
       "      <td>6</td>\n",
       "      <td>Ford Figo</td>\n",
       "      <td>Ford</td>\n",
       "      <td>2012</td>\n",
       "      <td>175000</td>\n",
       "      <td>41000</td>\n",
       "      <td>Diesel</td>\n",
       "    </tr>\n",
       "  </tbody>\n",
       "</table>\n",
       "</div>"
      ],
      "text/plain": [
       "   Unnamed: 0                                    name   company  year   Price  \\\n",
       "0           0    Hyundai Santro Xing XO eRLX Euro III   Hyundai  2007   80000   \n",
       "1           1                 Mahindra Jeep CL550 MDI  Mahindra  2006  425000   \n",
       "2           3  Hyundai Grand i10 Magna 1.2 Kappa VTVT   Hyundai  2014  325000   \n",
       "3           4        Ford EcoSport Titanium 1.5L TDCi      Ford  2014  575000   \n",
       "4           6                               Ford Figo      Ford  2012  175000   \n",
       "\n",
       "   kms_driven fuel_type  \n",
       "0       45000    Petrol  \n",
       "1          40    Diesel  \n",
       "2       28000    Petrol  \n",
       "3       36000    Diesel  \n",
       "4       41000    Diesel  "
      ]
     },
     "execution_count": 28,
     "metadata": {},
     "output_type": "execute_result"
    }
   ],
   "source": [
    "data1 = pd.read_csv('duplicate_car.csv')\n",
    "data1.head()"
   ]
  },
  {
   "cell_type": "code",
   "execution_count": 29,
   "id": "5d424ab2",
   "metadata": {},
   "outputs": [],
   "source": [
    "x = data1.drop(columns='Price')\n",
    "y= data1['Price']"
   ]
  },
  {
   "cell_type": "code",
   "execution_count": 30,
   "id": "950e916a",
   "metadata": {},
   "outputs": [],
   "source": [
    "from sklearn.model_selection import train_test_split\n"
   ]
  },
  {
   "cell_type": "code",
   "execution_count": 31,
   "id": "761f4b24",
   "metadata": {},
   "outputs": [],
   "source": [
    "from sklearn.linear_model import LinearRegression"
   ]
  },
  {
   "cell_type": "code",
   "execution_count": 32,
   "id": "52b36ec4",
   "metadata": {},
   "outputs": [],
   "source": [
    "x_train,x_test,y_train,y_test = train_test_split(x,y,test_size=0.2,random_state = 2)"
   ]
  },
  {
   "cell_type": "code",
   "execution_count": 52,
   "id": "c2679a88",
   "metadata": {},
   "outputs": [],
   "source": [
    "from sklearn.preprocessing import OneHotEncoder\n",
    "from sklearn.compose import make_column_transformer\n",
    "from sklearn.pipeline import make_pipeline\n",
    "from sklearn.metrics import r2_score"
   ]
  },
  {
   "cell_type": "code",
   "execution_count": 34,
   "id": "eddf05b1",
   "metadata": {},
   "outputs": [
    {
     "data": {
      "text/plain": [
       "OneHotEncoder()"
      ]
     },
     "execution_count": 34,
     "metadata": {},
     "output_type": "execute_result"
    }
   ],
   "source": [
    "ohe = OneHotEncoder()\n",
    "ohe.fit(x[['name','company','fuel_type']])"
   ]
  },
  {
   "cell_type": "code",
   "execution_count": 35,
   "id": "64586c7b",
   "metadata": {},
   "outputs": [
    {
     "data": {
      "text/plain": [
       "[array(['Audi A3 Cabriolet 40 TFSI',\n",
       "        'Audi A4 1.8 TFSI Multitronic Premium Plus',\n",
       "        'Audi A4 2.0 TDI 177bhp Premium', 'Audi A6 2.0 TDI Premium',\n",
       "        'Audi A8', 'Audi Q3 2.0 TDI quattro Premium',\n",
       "        'Audi Q5 2.0 TDI quattro Premium Plus', 'Audi Q7',\n",
       "        'BMW 3 Series 320d Sedan', 'BMW 3 Series 320i',\n",
       "        'BMW 5 Series 520d Sedan', 'BMW 5 Series 530i',\n",
       "        'BMW 7 Series 740Li Sedan', 'BMW X1', 'BMW X1 sDrive20d',\n",
       "        'BMW X1 xDrive20d xLine', 'Chevrolet Beat',\n",
       "        'Chevrolet Beat Diesel', 'Chevrolet Beat LS Diesel',\n",
       "        'Chevrolet Beat LS Petrol', 'Chevrolet Beat LT Diesel',\n",
       "        'Chevrolet Beat LT Opt Diesel', 'Chevrolet Beat LT Petrol',\n",
       "        'Chevrolet Beat PS Diesel', 'Chevrolet Cruze LTZ',\n",
       "        'Chevrolet Cruze LTZ AT', 'Chevrolet Enjoy',\n",
       "        'Chevrolet Enjoy 1.4 LS 8 STR', 'Chevrolet Sail 1.2 LS',\n",
       "        'Chevrolet Sail UVA Petrol LT ABS', 'Chevrolet Spark',\n",
       "        'Chevrolet Spark 1.0 LT', 'Chevrolet Spark LS 1.0',\n",
       "        'Chevrolet Spark LT 1.0', 'Chevrolet Spark LT 1.0 Airbag',\n",
       "        'Chevrolet Tavera LS B3 10 Seats BSII', 'Chevrolet Tavera Neo',\n",
       "        'Datsun GO T O', 'Datsun Go Plus', 'Datsun Redi GO',\n",
       "        'Datsun Redi GO S', 'Datsun Redi GO T O',\n",
       "        'Fiat Linea Emotion 1.4 L T Jet Petrol', 'Fiat Petra ELX 1.2 PS',\n",
       "        'Fiat Punto Emotion 1.2', 'Force Motors Force One LX ABS 7 STR',\n",
       "        'Force Motors One SUV', 'Ford EcoSport',\n",
       "        'Ford EcoSport Ambiente 1.5L TDCi',\n",
       "        'Ford EcoSport Titanium 1.5 TDCi',\n",
       "        'Ford EcoSport Titanium 1.5L TDCi',\n",
       "        'Ford EcoSport Trend 1.5 Ti VCT', 'Ford EcoSport Trend 1.5L TDCi',\n",
       "        'Ford EcoSport Trend 1.5L Ti VCT',\n",
       "        'Ford Endeavor 4x4 Thunder Plus', 'Ford Fiesta',\n",
       "        'Ford Fiesta SXi 1.6 ABS', 'Ford Figo', 'Ford Figo Diesel EXI',\n",
       "        'Ford Figo Diesel EXI Option',\n",
       "        'Ford Figo Duratorq Diesel Titanium 1.4', 'Ford Figo Petrol LXI',\n",
       "        'Ford Figo Petrol Titanium', 'Ford Fusion 1.4 TDCi Diesel',\n",
       "        'Ford Ikon 1.3 CLXi NXt Finesse', 'Ford Ikon 1.3 Flair Josh 100',\n",
       "        'Ford Ikon 1.6 Nxt', 'Hindustan Motors Ambassador',\n",
       "        'Hindustan Motors Ambassador Classic Mark 4 – Befo',\n",
       "        'Honda Accord', 'Honda Amaze', 'Honda Amaze 1.2 S i VTEC',\n",
       "        'Honda Amaze 1.2 VX i VTEC', 'Honda Amaze 1.5 E i DTEC',\n",
       "        'Honda Amaze 1.5 S i DTEC', 'Honda Amaze 1.5 SX i DTEC',\n",
       "        'Honda Brio', 'Honda Brio V MT', 'Honda Brio VX AT', 'Honda City',\n",
       "        'Honda City 1.5 E MT', 'Honda City 1.5 EXi New',\n",
       "        'Honda City 1.5 S Inspire', 'Honda City 1.5 S MT',\n",
       "        'Honda City 1.5 V AT', 'Honda City 1.5 V MT',\n",
       "        'Honda City 1.5 V MT Exclusive', 'Honda City SV',\n",
       "        'Honda City VX O MT Diesel', 'Honda City VX Petrol',\n",
       "        'Honda City ZX CVT', 'Honda City ZX EXi', 'Honda City ZX GXi',\n",
       "        'Honda City ZX VTEC', 'Honda Jazz S MT', 'Honda Jazz VX MT',\n",
       "        'Honda Mobilio', 'Honda Mobilio S i DTEC',\n",
       "        'Honda WR V S MT Petrol', 'Hyundai Accent',\n",
       "        'Hyundai Accent Executive Edition', 'Hyundai Accent GLE',\n",
       "        'Hyundai Accent GLX', 'Hyundai Creta', 'Hyundai Creta 1.6 SX',\n",
       "        'Hyundai Creta 1.6 SX Plus Petrol',\n",
       "        'Hyundai Creta 1.6 SX Plus Petrol AT', 'Hyundai Elantra 1.8 S',\n",
       "        'Hyundai Elantra SX', 'Hyundai Elite i20',\n",
       "        'Hyundai Elite i20 Asta 1.2', 'Hyundai Elite i20 Asta 1.4 CRDI',\n",
       "        'Hyundai Elite i20 Magna 1.2', 'Hyundai Elite i20 Sportz 1.2',\n",
       "        'Hyundai Eon', 'Hyundai Eon D Lite Plus', 'Hyundai Eon Era Plus',\n",
       "        'Hyundai Eon Magna', 'Hyundai Eon Magna Plus',\n",
       "        'Hyundai Eon Sportz', 'Hyundai Fluidic Verna 1.6 CRDi SX',\n",
       "        'Hyundai Getz', 'Hyundai Getz GLE', 'Hyundai Getz Prime 1.3 GLX',\n",
       "        'Hyundai Getz Prime 1.3 GVS', 'Hyundai Grand i10',\n",
       "        'Hyundai Grand i10 Asta 1.1 CRDi',\n",
       "        'Hyundai Grand i10 Asta 1.2 Kappa VTVT',\n",
       "        'Hyundai Grand i10 Asta 1.2 Kappa VTVT O',\n",
       "        'Hyundai Grand i10 Magna 1.2 Kappa VTVT',\n",
       "        'Hyundai Grand i10 Magna AT 1.2 Kappa VTVT',\n",
       "        'Hyundai Grand i10 Sportz 1.2 Kappa VTVT',\n",
       "        'Hyundai Grand i10 Sportz O 1.2 Kappa VTVT', 'Hyundai Santro',\n",
       "        'Hyundai Santro AE GLS Audio', 'Hyundai Santro Xing',\n",
       "        'Hyundai Santro Xing GL', 'Hyundai Santro Xing GLS',\n",
       "        'Hyundai Santro Xing XL AT eRLX Euro III',\n",
       "        'Hyundai Santro Xing XL eRLX Euro III',\n",
       "        'Hyundai Santro Xing XO eRLX Euro III', 'Hyundai Santro Xing XS',\n",
       "        'Hyundai Sonata Transform 2.4 GDi MT', 'Hyundai Verna',\n",
       "        'Hyundai Verna 1.4 VTVT', 'Hyundai Verna 1.6 CRDI E',\n",
       "        'Hyundai Verna 1.6 CRDI SX', 'Hyundai Verna 1.6 CRDI SX Plus AT',\n",
       "        'Hyundai Verna 1.6 EX VTVT', 'Hyundai Verna 1.6 SX VTVT AT',\n",
       "        'Hyundai Verna Fluidic', 'Hyundai Verna Fluidic 1.6 VTVT SX',\n",
       "        'Hyundai Verna Fluidic New', 'Hyundai Verna Transform SX VTVT',\n",
       "        'Hyundai Verna VGT CRDi SX ABS', 'Hyundai Xcent Base 1.1 CRDi',\n",
       "        'Hyundai Xcent SX 1.2', 'Hyundai i10', 'Hyundai i10 Era',\n",
       "        'Hyundai i10 Magna 1.2', 'Hyundai i10 Magna 1.2 Kappa2',\n",
       "        'Hyundai i10 Sportz', 'Hyundai i10 Sportz 1.2', 'Hyundai i20',\n",
       "        'Hyundai i20 Active', 'Hyundai i20 Active 1.2 SX',\n",
       "        'Hyundai i20 Active 1.4L SX O', 'Hyundai i20 Asta',\n",
       "        'Hyundai i20 Asta 1.2', 'Hyundai i20 Asta 1.4 CRDI 6 Speed',\n",
       "        'Hyundai i20 Magna', 'Hyundai i20 Magna 1.2',\n",
       "        'Hyundai i20 Magna O 1.2', 'Hyundai i20 Select Variant',\n",
       "        'Hyundai i20 Sportz 1.2', 'Hyundai i20 Sportz 1.4 CRDI',\n",
       "        'Jaguar XE XE Portfolio', 'Jaguar XF 2.2 Diesel Luxury',\n",
       "        'Jeep Wrangler Unlimited 4x4 Diesel', 'Land Rover Freelander 2 SE',\n",
       "        'Mahindra Bolero DI', 'Mahindra Bolero DI BSII',\n",
       "        'Mahindra Bolero Power Plus SLE', 'Mahindra Bolero SLE BS IV',\n",
       "        'Mahindra Jeep CL550 MDI', 'Mahindra Jeep MM 550 XDB',\n",
       "        'Mahindra KUV100', 'Mahindra KUV100 K8 6 STR',\n",
       "        'Mahindra KUV100 K8 D 6 STR', 'Mahindra Logan',\n",
       "        'Mahindra Logan Diesel 1.5 DLS', 'Mahindra Quanto C4',\n",
       "        'Mahindra Quanto C8', 'Mahindra Scorpio',\n",
       "        'Mahindra Scorpio 2.6 CRDe', 'Mahindra Scorpio 2.6 SLX',\n",
       "        'Mahindra Scorpio LX BS III', 'Mahindra Scorpio S10',\n",
       "        'Mahindra Scorpio S10 4WD', 'Mahindra Scorpio S4',\n",
       "        'Mahindra Scorpio SLE BS IV', 'Mahindra Scorpio SLX',\n",
       "        'Mahindra Scorpio SLX 2.6 Turbo 8 Str',\n",
       "        'Mahindra Scorpio VLX 2.2 mHawk Airbag BSIV',\n",
       "        'Mahindra Scorpio VLX 2WD BS IV',\n",
       "        'Mahindra Scorpio VLX 4WD Airbag', 'Mahindra Scorpio VLX Airbag',\n",
       "        'Mahindra Scorpio VLX Special Edition BS III',\n",
       "        'Mahindra Scorpio Vlx BSIV',\n",
       "        'Mahindra Scorpio W Turbo 2.6DX 9 Seater',\n",
       "        'Mahindra TUV300 T4 Plus', 'Mahindra TUV300 T8',\n",
       "        'Mahindra Thar CRDe 4x4 AC', 'Mahindra XUV500',\n",
       "        'Mahindra XUV500 W10', 'Mahindra XUV500 W6', 'Mahindra XUV500 W8',\n",
       "        'Mahindra XUV500 W8 AWD 2013', 'Mahindra Xylo D2',\n",
       "        'Mahindra Xylo D2 BS IV', 'Mahindra Xylo E4', 'Mahindra Xylo E8',\n",
       "        'Mahindra Xylo E8 BS IV', 'Maruti Suzuki 800',\n",
       "        'Maruti Suzuki 800 Std BS III', 'Maruti Suzuki A Star Lxi',\n",
       "        'Maruti Suzuki Alto', 'Maruti Suzuki Alto 800',\n",
       "        'Maruti Suzuki Alto 800 LXI CNG O', 'Maruti Suzuki Alto 800 Lx',\n",
       "        'Maruti Suzuki Alto 800 Lxi', 'Maruti Suzuki Alto 800 Vxi',\n",
       "        'Maruti Suzuki Alto AX', 'Maruti Suzuki Alto K10 LXi CNG',\n",
       "        'Maruti Suzuki Alto K10 New', 'Maruti Suzuki Alto K10 VXi',\n",
       "        'Maruti Suzuki Alto K10 VXi AMT', 'Maruti Suzuki Alto K10 VXi AT',\n",
       "        'Maruti Suzuki Alto LX', 'Maruti Suzuki Alto LXi BS III',\n",
       "        'Maruti Suzuki Alto Std BS IV', 'Maruti Suzuki Baleno Delta 1.2',\n",
       "        'Maruti Suzuki Baleno Sigma 1.2', 'Maruti Suzuki Baleno Zeta 1.2',\n",
       "        'Maruti Suzuki Celerio VDi', 'Maruti Suzuki Ciaz VXi Plus',\n",
       "        'Maruti Suzuki Ciaz ZXI Plus', 'Maruti Suzuki Ciaz ZXi Plus RS',\n",
       "        'Maruti Suzuki Dzire', 'Maruti Suzuki Dzire LDI',\n",
       "        'Maruti Suzuki Dzire VDI', 'Maruti Suzuki Dzire ZXI',\n",
       "        'Maruti Suzuki Eeco 5 STR WITH AC HTR', 'Maruti Suzuki Eeco 7 STR',\n",
       "        'Maruti Suzuki Ertiga', 'Maruti Suzuki Ertiga LDi',\n",
       "        'Maruti Suzuki Ertiga VDi', 'Maruti Suzuki Ertiga Vxi',\n",
       "        'Maruti Suzuki Ertiga ZXI Plus', 'Maruti Suzuki Ertiga ZXi',\n",
       "        'Maruti Suzuki Esteem LXi BS III',\n",
       "        'Maruti Suzuki Esteem VXi BS III', 'Maruti Suzuki Estilo LX BS IV',\n",
       "        'Maruti Suzuki Estilo VXi ABS BS IV',\n",
       "        'Maruti Suzuki Maruti 800 AC', 'Maruti Suzuki Maruti 800 Std',\n",
       "        'Maruti Suzuki Maruti 800 Std – Befo', 'Maruti Suzuki Omni',\n",
       "        'Maruti Suzuki Omni 8 STR BS III',\n",
       "        'Maruti Suzuki Omni E 8 STR BS IV', 'Maruti Suzuki Omni LPG BS IV',\n",
       "        'Maruti Suzuki Omni Limited Edition',\n",
       "        'Maruti Suzuki Omni Select Variant', 'Maruti Suzuki Ritz',\n",
       "        'Maruti Suzuki Ritz GENUS VXI', 'Maruti Suzuki Ritz LDi',\n",
       "        'Maruti Suzuki Ritz VDi', 'Maruti Suzuki Ritz VXI',\n",
       "        'Maruti Suzuki Ritz VXI ABS', 'Maruti Suzuki S Cross Sigma 1.3',\n",
       "        'Maruti Suzuki SX4', 'Maruti Suzuki SX4 Celebration Diesel',\n",
       "        'Maruti Suzuki SX4 ZXI MT', 'Maruti Suzuki Stingray VXi',\n",
       "        'Maruti Suzuki Swift', 'Maruti Suzuki Swift Dzire',\n",
       "        'Maruti Suzuki Swift Dzire Tour LDi',\n",
       "        'Maruti Suzuki Swift Dzire Tour LXi',\n",
       "        'Maruti Suzuki Swift Dzire Tour VDi',\n",
       "        'Maruti Suzuki Swift Dzire Tour VXi',\n",
       "        'Maruti Suzuki Swift Dzire VDi',\n",
       "        'Maruti Suzuki Swift Dzire VXi 1.2 BS IV',\n",
       "        'Maruti Suzuki Swift Dzire ZDi', 'Maruti Suzuki Swift GLAM',\n",
       "        'Maruti Suzuki Swift LDi', 'Maruti Suzuki Swift RS VDI',\n",
       "        'Maruti Suzuki Swift Select Variant', 'Maruti Suzuki Swift VDi',\n",
       "        'Maruti Suzuki Swift VDi ABS', 'Maruti Suzuki Swift VDi BS IV',\n",
       "        'Maruti Suzuki Swift VXI BSIII',\n",
       "        'Maruti Suzuki Swift VXi 1.2 ABS BS IV',\n",
       "        'Maruti Suzuki Swift VXi 1.2 BS IV',\n",
       "        'Maruti Suzuki Swift Vdi BSIII',\n",
       "        'Maruti Suzuki Swift ZXi 1.2 BS IV',\n",
       "        'Maruti Suzuki Versa DX2 8 SEATER BSIII',\n",
       "        'Maruti Suzuki Vitara Brezza', 'Maruti Suzuki Vitara Brezza LDi O',\n",
       "        'Maruti Suzuki Vitara Brezza ZDi', 'Maruti Suzuki Wagon R',\n",
       "        'Maruti Suzuki Wagon R 1.0', 'Maruti Suzuki Wagon R 1.0 VXi',\n",
       "        'Maruti Suzuki Wagon R AX BSIV', 'Maruti Suzuki Wagon R Duo Lxi',\n",
       "        'Maruti Suzuki Wagon R LX BS III',\n",
       "        'Maruti Suzuki Wagon R LX BS IV',\n",
       "        'Maruti Suzuki Wagon R LXI BS IV',\n",
       "        'Maruti Suzuki Wagon R LXi BS III',\n",
       "        'Maruti Suzuki Wagon R Select Variant',\n",
       "        'Maruti Suzuki Wagon R VXI BS IV',\n",
       "        'Maruti Suzuki Wagon R VXi BS III',\n",
       "        'Maruti Suzuki Wagon R VXi Minor', 'Maruti Suzuki Zen Estilo',\n",
       "        'Maruti Suzuki Zen Estilo LXI Green CNG',\n",
       "        'Maruti Suzuki Zen LX BSII', 'Maruti Suzuki Zen LXi BS III',\n",
       "        'Maruti Suzuki Zen LXi BSII', 'Maruti Suzuki Zen VX',\n",
       "        'Mercedes Benz A Class A 180 Sport Petrol',\n",
       "        'Mercedes Benz B Class B180 Sports',\n",
       "        'Mercedes Benz C Class 200 CDI Classic',\n",
       "        'Mercedes Benz C Class 200 K MT',\n",
       "        'Mercedes Benz C Class C 220 CDI Avantgarde',\n",
       "        'Mercedes Benz GLA Class 200 CDI Sport', 'Mini Cooper S',\n",
       "        'Mini Cooper S 1.6', 'Mitsubishi Lancer 1.8 LXi',\n",
       "        'Mitsubishi Pajero Sport 2.5 AT',\n",
       "        'Mitsubishi Pajero Sport Limited Edition', 'Nissan Micra XL',\n",
       "        'Nissan Micra XV', 'Nissan Sunny', 'Nissan Sunny XL',\n",
       "        'Nissan Terrano XL D Plus', 'Nissan X Trail Select Variant',\n",
       "        'Renault Duster', 'Renault Duster 110 PS RxL Diesel',\n",
       "        'Renault Duster 110 PS RxZ Diesel',\n",
       "        'Renault Duster 110 PS RxZ Diesel Plus',\n",
       "        'Renault Duster 110PS Diesel RxZ',\n",
       "        'Renault Duster 85 PS RxE Diesel',\n",
       "        'Renault Duster 85 PS RxL Diesel',\n",
       "        'Renault Duster 85 PS RxL Explore LE',\n",
       "        'Renault Duster 85PS Diesel RxL Optional with Nav',\n",
       "        'Renault Duster RxL Petrol', 'Renault Kwid', 'Renault Kwid 1.0',\n",
       "        'Renault Kwid 1.0 RXT AMT', 'Renault Kwid RXT',\n",
       "        'Renault Kwid RXT Opt', 'Renault Lodgy 85 PS RXL',\n",
       "        'Renault Scala RxL Diesel', 'Renault Scala RxL Diesel Travelogue',\n",
       "        'Skoda Fabia', 'Skoda Fabia 1.2L Diesel Ambiente',\n",
       "        'Skoda Fabia 1.2L Diesel Elegance', 'Skoda Fabia Classic 1.2 MPI',\n",
       "        'Skoda Laura', 'Skoda Octavia Classic 1.9 TDI MT',\n",
       "        'Skoda Rapid Elegance 1.6 TDI CR MT', 'Skoda Superb 1.8 TFSI AT',\n",
       "        'Skoda Yeti Ambition 2.0 TDI CR 4x2', 'Tata Aria Pleasure 4X2',\n",
       "        'Tata Bolt XM Petrol', 'Tata Indica', 'Tata Indica V2',\n",
       "        'Tata Indica V2 DLE BS III', 'Tata Indica V2 DLG',\n",
       "        'Tata Indica V2 DLS BS III', 'Tata Indica V2 DLX BS III',\n",
       "        'Tata Indica V2 LS', 'Tata Indica V2 Xeta e GLE',\n",
       "        'Tata Indica V2 eLS', 'Tata Indica eV2 LS',\n",
       "        'Tata Indica eV2 eXeta eGLX', 'Tata Indigo CS',\n",
       "        'Tata Indigo CS GLS', 'Tata Indigo CS LS DiCOR',\n",
       "        'Tata Indigo CS eLS BS IV', 'Tata Indigo CS eLX BS IV',\n",
       "        'Tata Indigo LS', 'Tata Indigo LX TDI BS III',\n",
       "        'Tata Indigo Marina LS', 'Tata Indigo eCS',\n",
       "        'Tata Indigo eCS LS CR4 BS IV', 'Tata Indigo eCS LX CR4 BS IV',\n",
       "        'Tata Indigo eCS LX TDI BS III', 'Tata Indigo eCS VX CR4 BS IV',\n",
       "        'Tata Manza', 'Tata Manza Aqua Quadrajet',\n",
       "        'Tata Manza Aura Quadrajet', 'Tata Manza ELAN Quadrajet',\n",
       "        'Tata Nano', 'Tata Nano Cx BSIV', 'Tata Nano GenX XMA',\n",
       "        'Tata Nano LX Special Edition', 'Tata Nano Lx BSIV',\n",
       "        'Tata Sumo Gold EX BS IV', 'Tata Sumo Gold FX BSIII',\n",
       "        'Tata Sumo Gold LX BS IV', 'Tata Sumo Gold Select Variant',\n",
       "        'Tata Sumo Grande MKII GX', 'Tata Sumo Victa EX 10 by 7 Str BSIII',\n",
       "        'Tata Tiago Revotorq XZ', 'Tata Tiago Revotron XM',\n",
       "        'Tata Tiago Revotron XZ', 'Tata Tigor Revotron XZ',\n",
       "        'Tata Venture EX 8 STR', 'Tata Vista Quadrajet VX',\n",
       "        'Tata Zest Quadrajet 1.3', 'Tata Zest XE 75 PS Diesel',\n",
       "        'Tata Zest XM Diesel', 'Toyota Corolla', 'Toyota Corolla Altis',\n",
       "        'Toyota Corolla Altis 1.8 GL', 'Toyota Corolla Altis 1.8 J',\n",
       "        'Toyota Corolla Altis Diesel D4DG',\n",
       "        'Toyota Corolla Altis GL Petrol',\n",
       "        'Toyota Corolla Altis Petrol Ltd',\n",
       "        'Toyota Corolla Altis VL AT Petrol', 'Toyota Corolla H2',\n",
       "        'Toyota Etios', 'Toyota Etios G', 'Toyota Etios GD',\n",
       "        'Toyota Etios Liva', 'Toyota Etios Liva Diesel',\n",
       "        'Toyota Etios Liva G', 'Toyota Etios Liva GD', 'Toyota Fortuner',\n",
       "        'Toyota Fortuner 3.0 4x2 MT', 'Toyota Fortuner 3.0 4x4 MT',\n",
       "        'Toyota Innova 2.0 G 8 STR BS IV', 'Toyota Innova 2.0 G4',\n",
       "        'Toyota Innova 2.5 E 8 STR', 'Toyota Innova 2.5 E MS 7 STR BS IV',\n",
       "        'Toyota Innova 2.5 G BS III 8 STR',\n",
       "        'Toyota Innova 2.5 GX BS IV 7 STR', 'Toyota Innova 2.5 V 7 STR',\n",
       "        'Toyota Innova 2.5 Z Diesel 7 Seater', 'Toyota Qualis',\n",
       "        'Volkswagen Jetta Comfortline 1.9 TDI AT',\n",
       "        'Volkswagen Jetta Highline TDI AT',\n",
       "        'Volkswagen Passat Diesel Comfortline AT', 'Volkswagen Polo',\n",
       "        'Volkswagen Polo Comfortline 1.2L P',\n",
       "        'Volkswagen Polo Highline Exquisite P',\n",
       "        'Volkswagen Polo Highline1.2L P',\n",
       "        'Volkswagen Polo Trendline 1.5L D',\n",
       "        'Volkswagen Vento Comfortline Diesel',\n",
       "        'Volkswagen Vento Comfortline Petrol',\n",
       "        'Volkswagen Vento Highline Plus 1.5 Diesel AT',\n",
       "        'Volkswagen Vento Konekt Diesel Highline', 'Volvo S80 Summum D4'],\n",
       "       dtype=object),\n",
       " array(['Audi', 'BMW', 'Chevrolet', 'Datsun', 'Fiat', 'Force', 'Ford',\n",
       "        'Hindustan', 'Honda', 'Hyundai', 'Jaguar', 'Jeep', 'Land',\n",
       "        'Mahindra', 'Maruti', 'Mercedes', 'Mini', 'Mitsubishi', 'Nissan',\n",
       "        'Renault', 'Skoda', 'Tata', 'Toyota', 'Volkswagen', 'Volvo'],\n",
       "       dtype=object),\n",
       " array(['Diesel', 'LPG', 'Petrol'], dtype=object)]"
      ]
     },
     "execution_count": 35,
     "metadata": {},
     "output_type": "execute_result"
    }
   ],
   "source": [
    "ohe.categories_"
   ]
  },
  {
   "cell_type": "code",
   "execution_count": 36,
   "id": "9ffe0e1d",
   "metadata": {},
   "outputs": [],
   "source": [
    "column_trans = make_column_transformer((OneHotEncoder(categories=ohe.categories_),['name','company','fuel_type']),remainder='passthrough')"
   ]
  },
  {
   "cell_type": "code",
   "execution_count": 37,
   "id": "815280e3",
   "metadata": {},
   "outputs": [],
   "source": [
    "lr=LinearRegression()"
   ]
  },
  {
   "cell_type": "code",
   "execution_count": 38,
   "id": "8c31e64d",
   "metadata": {},
   "outputs": [],
   "source": [
    "pipe = make_pipeline(column_trans,lr)"
   ]
  },
  {
   "cell_type": "code",
   "execution_count": 39,
   "id": "081b34c3",
   "metadata": {},
   "outputs": [
    {
     "data": {
      "text/plain": [
       "Pipeline(steps=[('columntransformer',\n",
       "                 ColumnTransformer(remainder='passthrough',\n",
       "                                   transformers=[('onehotencoder',\n",
       "                                                  OneHotEncoder(categories=[array(['Audi A3 Cabriolet 40 TFSI',\n",
       "       'Audi A4 1.8 TFSI Multitronic Premium Plus',\n",
       "       'Audi A4 2.0 TDI 177bhp Premium', 'Audi A6 2.0 TDI Premium',\n",
       "       'Audi A8', 'Audi Q3 2.0 TDI quattro Premium',\n",
       "       'Audi Q5 2.0 TDI quattro Premium Plus', 'Audi Q7',\n",
       "       'BMW 3 Series 320d...\n",
       "                                                                            array(['Audi', 'BMW', 'Chevrolet', 'Datsun', 'Fiat', 'Force', 'Ford',\n",
       "       'Hindustan', 'Honda', 'Hyundai', 'Jaguar', 'Jeep', 'Land',\n",
       "       'Mahindra', 'Maruti', 'Mercedes', 'Mini', 'Mitsubishi', 'Nissan',\n",
       "       'Renault', 'Skoda', 'Tata', 'Toyota', 'Volkswagen', 'Volvo'],\n",
       "      dtype=object),\n",
       "                                                                            array(['Diesel', 'LPG', 'Petrol'], dtype=object)]),\n",
       "                                                  ['name', 'company',\n",
       "                                                   'fuel_type'])])),\n",
       "                ('linearregression', LinearRegression())])"
      ]
     },
     "execution_count": 39,
     "metadata": {},
     "output_type": "execute_result"
    }
   ],
   "source": [
    "pipe.fit(x_train,y_train)"
   ]
  },
  {
   "cell_type": "code",
   "execution_count": 40,
   "id": "b7564522",
   "metadata": {},
   "outputs": [],
   "source": [
    "y_pred = pipe.predict(x_test)"
   ]
  },
  {
   "cell_type": "code",
   "execution_count": 41,
   "id": "14b974b9",
   "metadata": {},
   "outputs": [
    {
     "data": {
      "text/plain": [
       "0.6677435392095521"
      ]
     },
     "execution_count": 41,
     "metadata": {},
     "output_type": "execute_result"
    }
   ],
   "source": [
    "r2_score(y_test,y_pred)"
   ]
  },
  {
   "cell_type": "code",
   "execution_count": 42,
   "id": "2b12a2ec",
   "metadata": {},
   "outputs": [
    {
     "data": {
      "text/html": [
       "<div>\n",
       "<style scoped>\n",
       "    .dataframe tbody tr th:only-of-type {\n",
       "        vertical-align: middle;\n",
       "    }\n",
       "\n",
       "    .dataframe tbody tr th {\n",
       "        vertical-align: top;\n",
       "    }\n",
       "\n",
       "    .dataframe thead th {\n",
       "        text-align: right;\n",
       "    }\n",
       "</style>\n",
       "<table border=\"1\" class=\"dataframe\">\n",
       "  <thead>\n",
       "    <tr style=\"text-align: right;\">\n",
       "      <th></th>\n",
       "      <th>name</th>\n",
       "      <th>company</th>\n",
       "      <th>year</th>\n",
       "      <th>kms_driven</th>\n",
       "      <th>fuel_type</th>\n",
       "    </tr>\n",
       "  </thead>\n",
       "  <tbody>\n",
       "    <tr>\n",
       "      <th>416</th>\n",
       "      <td>Hyundai Grand i10 Asta 1.2 Kappa VTVT</td>\n",
       "      <td>Hyundai</td>\n",
       "      <td>2016</td>\n",
       "      <td>59910</td>\n",
       "      <td>Diesel</td>\n",
       "    </tr>\n",
       "    <tr>\n",
       "      <th>825</th>\n",
       "      <td>Maruti Suzuki Dzire</td>\n",
       "      <td>Maruti</td>\n",
       "      <td>2009</td>\n",
       "      <td>42000</td>\n",
       "      <td>Petrol</td>\n",
       "    </tr>\n",
       "    <tr>\n",
       "      <th>113</th>\n",
       "      <td>Ford Figo Diesel EXI</td>\n",
       "      <td>Ford</td>\n",
       "      <td>2014</td>\n",
       "      <td>50000</td>\n",
       "      <td>Diesel</td>\n",
       "    </tr>\n",
       "    <tr>\n",
       "      <th>308</th>\n",
       "      <td>Ford EcoSport Titanium 1.5 TDCi</td>\n",
       "      <td>Ford</td>\n",
       "      <td>2014</td>\n",
       "      <td>57000</td>\n",
       "      <td>Diesel</td>\n",
       "    </tr>\n",
       "    <tr>\n",
       "      <th>17</th>\n",
       "      <td>Audi Q7</td>\n",
       "      <td>Audi</td>\n",
       "      <td>2014</td>\n",
       "      <td>16934</td>\n",
       "      <td>Diesel</td>\n",
       "    </tr>\n",
       "    <tr>\n",
       "      <th>...</th>\n",
       "      <td>...</td>\n",
       "      <td>...</td>\n",
       "      <td>...</td>\n",
       "      <td>...</td>\n",
       "      <td>...</td>\n",
       "    </tr>\n",
       "    <tr>\n",
       "      <th>192</th>\n",
       "      <td>Maruti Suzuki Zen VX</td>\n",
       "      <td>Maruti</td>\n",
       "      <td>2000</td>\n",
       "      <td>60000</td>\n",
       "      <td>Petrol</td>\n",
       "    </tr>\n",
       "    <tr>\n",
       "      <th>276</th>\n",
       "      <td>Maruti Suzuki Maruti 800 Std</td>\n",
       "      <td>Maruti</td>\n",
       "      <td>2003</td>\n",
       "      <td>56758</td>\n",
       "      <td>Petrol</td>\n",
       "    </tr>\n",
       "    <tr>\n",
       "      <th>526</th>\n",
       "      <td>Mahindra Scorpio Vlx BSIV</td>\n",
       "      <td>Mahindra</td>\n",
       "      <td>2013</td>\n",
       "      <td>75000</td>\n",
       "      <td>Diesel</td>\n",
       "    </tr>\n",
       "    <tr>\n",
       "      <th>330</th>\n",
       "      <td>Mahindra Scorpio</td>\n",
       "      <td>Mahindra</td>\n",
       "      <td>2013</td>\n",
       "      <td>68000</td>\n",
       "      <td>Diesel</td>\n",
       "    </tr>\n",
       "    <tr>\n",
       "      <th>750</th>\n",
       "      <td>Maruti Suzuki Alto 800 Lxi</td>\n",
       "      <td>Maruti</td>\n",
       "      <td>2015</td>\n",
       "      <td>50000</td>\n",
       "      <td>Petrol</td>\n",
       "    </tr>\n",
       "  </tbody>\n",
       "</table>\n",
       "<p>163 rows × 5 columns</p>\n",
       "</div>"
      ],
      "text/plain": [
       "                                      name   company  year  kms_driven  \\\n",
       "416  Hyundai Grand i10 Asta 1.2 Kappa VTVT   Hyundai  2016       59910   \n",
       "825                    Maruti Suzuki Dzire    Maruti  2009       42000   \n",
       "113                   Ford Figo Diesel EXI      Ford  2014       50000   \n",
       "308        Ford EcoSport Titanium 1.5 TDCi      Ford  2014       57000   \n",
       "17                                 Audi Q7      Audi  2014       16934   \n",
       "..                                     ...       ...   ...         ...   \n",
       "192                   Maruti Suzuki Zen VX    Maruti  2000       60000   \n",
       "276           Maruti Suzuki Maruti 800 Std    Maruti  2003       56758   \n",
       "526              Mahindra Scorpio Vlx BSIV  Mahindra  2013       75000   \n",
       "330                       Mahindra Scorpio  Mahindra  2013       68000   \n",
       "750             Maruti Suzuki Alto 800 Lxi    Maruti  2015       50000   \n",
       "\n",
       "    fuel_type  \n",
       "416    Diesel  \n",
       "825    Petrol  \n",
       "113    Diesel  \n",
       "308    Diesel  \n",
       "17     Diesel  \n",
       "..        ...  \n",
       "192    Petrol  \n",
       "276    Petrol  \n",
       "526    Diesel  \n",
       "330    Diesel  \n",
       "750    Petrol  \n",
       "\n",
       "[163 rows x 5 columns]"
      ]
     },
     "execution_count": 42,
     "metadata": {},
     "output_type": "execute_result"
    }
   ],
   "source": [
    "x_test"
   ]
  },
  {
   "cell_type": "code",
   "execution_count": 43,
   "id": "ad26ea7a",
   "metadata": {},
   "outputs": [
    {
     "data": {
      "text/plain": [
       "array([ 280000,  210000,  195000,  520000,  500000,  385000,   80000,\n",
       "        399999,  224999,  649999,  699000,  699999, 1725000,  749999,\n",
       "        675000,  401919,  149000,  635000,  165000,  169999,  750000,\n",
       "        165000,  182000,  120000,  110000,   30000,   75000,   85000,\n",
       "         49000,  225000,   95000,  330000, 1891111,  219000,  498000,\n",
       "        380000,  150000,  340000,  250000,  255000,  725000, 1540000,\n",
       "       1891111,  290000,  550000,  225000, 1850000,  299999, 1490000,\n",
       "         32000,  255000,   60000,  205000,  390000,  501000,   72500,\n",
       "        130000,  168000,  430000,   59000,  250000,  130000,  500000,\n",
       "        265000,  250000,  188000,   40000,   90000,  285000,  130000,\n",
       "        610000,  130000,  190000,  580000,  449999,   52000,   90000,\n",
       "        490000,  270000,  540000,   55000,  250000,  175000,  135000,\n",
       "         40000,  865000,  950000,  399999,  689999,  230000, 1074999,\n",
       "        750000,  199999,  200000,  350000,  530000,  145000,  350000,\n",
       "        574999,   45000,  210000,  149000,  344999,  344999,  179000,\n",
       "         35999,  140000,  220000,  100000,  444999,   40000,  525000,\n",
       "        210000, 1000000,  325000,  580000,  120000,  210000,  290000,\n",
       "        284999,  501000,  155000,  489999,  290000,  115000,  220000,\n",
       "        180000,  415000,  284999,   70000,  400000,  865000,  311000,\n",
       "        425000,  575000,  225000,  375000,  900000,  524999, 1400000,\n",
       "        389700,  250000,  499999,  160000,  150000,  340000,  599999,\n",
       "        350000,  360000,  425000,  120000,  210000,  385000,  400000,\n",
       "        249999,  230000,  450000,  830000,   55000,   57000,  690000,\n",
       "        574999,  215000], dtype=int64)"
      ]
     },
     "execution_count": 43,
     "metadata": {},
     "output_type": "execute_result"
    }
   ],
   "source": [
    "y_test.values"
   ]
  },
  {
   "cell_type": "code",
   "execution_count": 44,
   "id": "882764f9",
   "metadata": {},
   "outputs": [],
   "source": [
    "from sklearn.metrics import mean_absolute_error,mean_squared_error,r2_score"
   ]
  },
  {
   "cell_type": "code",
   "execution_count": 45,
   "id": "e1bec533",
   "metadata": {},
   "outputs": [
    {
     "name": "stdout",
     "output_type": "stream",
     "text": [
      "MAE 118095.46173800949\n"
     ]
    }
   ],
   "source": [
    "print(\"MAE\",mean_absolute_error(y_test,y_pred))"
   ]
  },
  {
   "cell_type": "code",
   "execution_count": 46,
   "id": "bd2e44e7",
   "metadata": {},
   "outputs": [
    {
     "name": "stdout",
     "output_type": "stream",
     "text": [
      "MSE 42018001657.366585\n"
     ]
    }
   ],
   "source": [
    "print(\"MSE\",mean_squared_error(y_test,y_pred))"
   ]
  },
  {
   "cell_type": "code",
   "execution_count": 47,
   "id": "07fc668a",
   "metadata": {},
   "outputs": [
    {
     "name": "stdout",
     "output_type": "stream",
     "text": [
      "RMSE 204982.93016094435\n"
     ]
    }
   ],
   "source": [
    "print(\"RMSE\",np.sqrt(mean_squared_error(y_test,y_pred)))"
   ]
  },
  {
   "cell_type": "code",
   "execution_count": 48,
   "id": "72bfe824",
   "metadata": {},
   "outputs": [
    {
     "name": "stdout",
     "output_type": "stream",
     "text": [
      "r2 score 0.6677435392095521\n"
     ]
    }
   ],
   "source": [
    "print(\"r2 score\",r2_score(y_test,y_pred))\n",
    "r2 = r2_score(y_test,y_pred)"
   ]
  },
  {
   "cell_type": "code",
   "execution_count": 50,
   "id": "94c59fc2",
   "metadata": {},
   "outputs": [
    {
     "data": {
      "text/plain": [
       "(163, 5)"
      ]
     },
     "execution_count": 50,
     "metadata": {},
     "output_type": "execute_result"
    }
   ],
   "source": [
    "x_test.shape"
   ]
  },
  {
   "cell_type": "code",
   "execution_count": 51,
   "id": "9d638858",
   "metadata": {},
   "outputs": [
    {
     "data": {
      "text/plain": [
       "0.6589999481361193"
      ]
     },
     "execution_count": 51,
     "metadata": {},
     "output_type": "execute_result"
    }
   ],
   "source": [
    "1 - ((1-r2)*(40-1)/(40-1-1))"
   ]
  },
  {
   "cell_type": "code",
   "execution_count": null,
   "id": "7dc61b95",
   "metadata": {},
   "outputs": [],
   "source": []
  }
 ],
 "metadata": {
  "kernelspec": {
   "display_name": "Python 3 (ipykernel)",
   "language": "python",
   "name": "python3"
  },
  "language_info": {
   "codemirror_mode": {
    "name": "ipython",
    "version": 3
   },
   "file_extension": ".py",
   "mimetype": "text/x-python",
   "name": "python",
   "nbconvert_exporter": "python",
   "pygments_lexer": "ipython3",
   "version": "3.9.12"
  }
 },
 "nbformat": 4,
 "nbformat_minor": 5
}
